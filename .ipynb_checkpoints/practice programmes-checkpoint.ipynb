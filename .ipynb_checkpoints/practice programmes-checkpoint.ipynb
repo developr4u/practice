{
 "cells": [
  {
   "cell_type": "code",
   "execution_count": 1,
   "metadata": {},
   "outputs": [
    {
     "name": "stdout",
     "output_type": "stream",
     "text": [
      "1 is Odd\n",
      "2 is Even\n",
      "3 is Odd\n",
      "4 is Even\n",
      "5 is Odd\n",
      "6 is Even\n",
      "7 is Odd\n",
      "8 is Even\n",
      "9 is Odd\n"
     ]
    }
   ],
   "source": [
    "x = [1,2,3,4,5,6,7,8,9]\n",
    "for i in x:\n",
    "    if i % 2 == 0:\n",
    "        print(i, \"is Even\")\n",
    "    else:\n",
    "        print(i, \"is Odd\")"
   ]
  },
  {
   "cell_type": "markdown",
   "metadata": {},
   "source": [
    "# Atm Programming"
   ]
  },
  {
   "cell_type": "code",
   "execution_count": 11,
   "metadata": {},
   "outputs": [
    {
     "name": "stdout",
     "output_type": "stream",
     "text": [
      "Enter Pin:4230\n",
      "press 1:Withdrawal\n",
      "press 2:Fast Cash\n",
      "press 3:Funds Transfer\n",
      "press 4:Bill Payment\n",
      "press 5:Balance Inquiry\n",
      "Enter:3\n"
     ]
    }
   ],
   "source": [
    "pin = int(input(\"Enter Pin:\"))\n",
    "if pin == 4230:\n",
    "    print(\"press 1:Withdrawal\")\n",
    "    print(\"press 2:Fast Cash\")\n",
    "    print(\"press 3:Funds Transfer\")\n",
    "    print(\"press 4:Bill Payment\")\n",
    "    print(\"press 5:Balance Inquiry\")\n",
    "    key = input(\"Enter:\")\n",
    "    if key == 1:\n",
    "        print(\"Enter Amount\")\n",
    "        amount = input(\"Enter:\")\n",
    "        if amount == 5000:\n",
    "            print(\"Here is Your Cash\")\n",
    "            print(\"Thank You For Using Faisal Bank ATM\")\n",
    "    elif key == 2:\n",
    "        print(\"This Fascility is not in Your Card\") \n",
    "    elif key == 3:\n",
    "        print(\"Press 6 for Funds Transfer in Faisal Bank\")\n",
    "        print(\"press 7 for Inter Bank\")\n",
    "        choice = input(\"enter:\")\n",
    "        if choice == 6:\n",
    "            print(\"Enter Account No\")\n",
    "            account_no = input(\"Enter:\")\n",
    "            if account_no == 8307900097103:\n",
    "                print(\"Maharani Sahiba\")\n",
    "                print(\"Faisal Bank Curent Account\")\n",
    "                print(\"press 8: To Confirm\")\n",
    "                print(\"press 9:To Exit\")\n",
    "                exit == input(\"enter:\")\n",
    "                if exit == 9:\n",
    "                    print(\"Thank You for using Faisal Bank\")\n",
    "                else:\n",
    "                    print(\"Thank You for using Faisal Bank\")\n",
    "                \n",
    "        else:\n",
    "            print(\"Enter Bank Code\")\n",
    "            print(\"HBL:0830\")\n",
    "            print(\"SCB:0123\")\n",
    "            print(\"MEEZAN:1543\")\n",
    "            print(\"MCB:0124\")\n",
    "            code = input(\"Enter Code\")\n",
    "            if code == 830:\n",
    "                print(\"Enter Account No\")\n",
    "                account_no = input(\"Enter:\")\n",
    "                if account_no == 8307900097103:\n",
    "                    print(\"Maharani Sahiba\")\n",
    "                    print(\"Faisal Bank Curent Account\")\n",
    "                    print(\"press 8: To Confirm\")\n",
    "                    print(\"press 9:To Exit\")\n",
    "                    if exit == 9:\n",
    "                        print(\"Thank You for using Faisal Bank\")\n",
    "                    else:\n",
    "                        print(\"Thank You for using Faisal Bank\")       \n",
    "         \n",
    "    \n",
    "    \n",
    "        \n",
    "\n",
    "                    \n",
    "                  \n",
    "    \n",
    "    \n",
    "    "
   ]
  },
  {
   "cell_type": "code",
   "execution_count": null,
   "metadata": {},
   "outputs": [],
   "source": [
    "pin = int(input(\"Enter Pin:\"))\n",
    "if pin == 4230:\n",
    "    print(\"press 1:Withdrawal\")\n",
    "    print(\"press 2:Fast Cash\")\n",
    "    print(\"press 3:Funds Transfer\")\n",
    "    print(\"press 4:Bill Payment\")\n",
    "    print(\"press 5:Balance Inquiry\")\n",
    "    key = input(\"Enter:\")\n",
    "    if key == 10:\n",
    "        print(\"Enter Amount:\")\n",
    "        amount = input(\"Enter:\")  \n",
    "else:\n",
    "    print(\"Invalid Pin\")\n",
    "    \n",
    "     \n",
    "        "
   ]
  },
  {
   "cell_type": "code",
   "execution_count": null,
   "metadata": {},
   "outputs": [],
   "source": []
  },
  {
   "cell_type": "code",
   "execution_count": null,
   "metadata": {},
   "outputs": [],
   "source": []
  }
 ],
 "metadata": {
  "kernelspec": {
   "display_name": "Python 3",
   "language": "python",
   "name": "python3"
  },
  "language_info": {
   "codemirror_mode": {
    "name": "ipython",
    "version": 3
   },
   "file_extension": ".py",
   "mimetype": "text/x-python",
   "name": "python",
   "nbconvert_exporter": "python",
   "pygments_lexer": "ipython3",
   "version": "3.7.1"
  }
 },
 "nbformat": 4,
 "nbformat_minor": 2
}
