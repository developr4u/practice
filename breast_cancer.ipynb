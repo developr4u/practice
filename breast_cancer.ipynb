{
  "nbformat": 4,
  "nbformat_minor": 0,
  "metadata": {
    "colab": {
      "name": "breast_cancer.ipynb",
      "provenance": [],
      "include_colab_link": true
    },
    "kernelspec": {
      "name": "python3",
      "display_name": "Python 3"
    },
    "accelerator": "TPU"
  },
  "cells": [
    {
      "cell_type": "markdown",
      "metadata": {
        "id": "view-in-github",
        "colab_type": "text"
      },
      "source": [
        "<a href=\"https://colab.research.google.com/github/developr4u/practice/blob/master/breast_cancer.ipynb\" target=\"_parent\"><img src=\"https://colab.research.google.com/assets/colab-badge.svg\" alt=\"Open In Colab\"/></a>"
      ]
    },
    {
      "cell_type": "code",
      "metadata": {
        "id": "sXigNW1_CI1h",
        "colab_type": "code",
        "colab": {
          "base_uri": "https://localhost:8080/",
          "height": 530
        },
        "outputId": "d7687ff3-9b43-4f42-ae41-4c9a5b791e86"
      },
      "source": [
        "!pip install tensorflow-gpu==2.0.0-rc0"
      ],
      "execution_count": 1,
      "outputs": [
        {
          "output_type": "stream",
          "text": [
            "Collecting tensorflow-gpu==2.0.0-rc0\n",
            "\u001b[?25l  Downloading https://files.pythonhosted.org/packages/6a/12/8c64cc62149cc21c70c55018502831bbf4d42bd62bed196df7de6830d21b/tensorflow_gpu-2.0.0rc0-cp36-cp36m-manylinux2010_x86_64.whl (380.5MB)\n",
            "\u001b[K     |████████████████████████████████| 380.5MB 41kB/s \n",
            "\u001b[?25hCollecting tb-nightly<1.15.0a20190807,>=1.15.0a20190806 (from tensorflow-gpu==2.0.0-rc0)\n",
            "\u001b[?25l  Downloading https://files.pythonhosted.org/packages/bc/88/24b5fb7280e74c7cf65bde47c171547fd02afb3840cff41bcbe9270650f5/tb_nightly-1.15.0a20190806-py3-none-any.whl (4.3MB)\n",
            "\u001b[K     |████████████████████████████████| 4.3MB 35.3MB/s \n",
            "\u001b[?25hRequirement already satisfied: opt-einsum>=2.3.2 in /usr/local/lib/python3.6/dist-packages (from tensorflow-gpu==2.0.0-rc0) (3.0.1)\n",
            "Requirement already satisfied: gast>=0.2.0 in /usr/local/lib/python3.6/dist-packages (from tensorflow-gpu==2.0.0-rc0) (0.2.2)\n",
            "Requirement already satisfied: six>=1.10.0 in /usr/local/lib/python3.6/dist-packages (from tensorflow-gpu==2.0.0-rc0) (1.12.0)\n",
            "Requirement already satisfied: keras-preprocessing>=1.0.5 in /usr/local/lib/python3.6/dist-packages (from tensorflow-gpu==2.0.0-rc0) (1.1.0)\n",
            "Requirement already satisfied: protobuf>=3.6.1 in /usr/local/lib/python3.6/dist-packages (from tensorflow-gpu==2.0.0-rc0) (3.7.1)\n",
            "Requirement already satisfied: termcolor>=1.1.0 in /usr/local/lib/python3.6/dist-packages (from tensorflow-gpu==2.0.0-rc0) (1.1.0)\n",
            "Requirement already satisfied: google-pasta>=0.1.6 in /usr/local/lib/python3.6/dist-packages (from tensorflow-gpu==2.0.0-rc0) (0.1.7)\n",
            "Requirement already satisfied: absl-py>=0.7.0 in /usr/local/lib/python3.6/dist-packages (from tensorflow-gpu==2.0.0-rc0) (0.8.0)\n",
            "Collecting tf-estimator-nightly<1.14.0.dev2019080602,>=1.14.0.dev2019080601 (from tensorflow-gpu==2.0.0-rc0)\n",
            "\u001b[?25l  Downloading https://files.pythonhosted.org/packages/21/28/f2a27a62943d5f041e4a6fd404b2d21cb7c59b2242a4e73b03d9ba166552/tf_estimator_nightly-1.14.0.dev2019080601-py2.py3-none-any.whl (501kB)\n",
            "\u001b[K     |████████████████████████████████| 501kB 54.8MB/s \n",
            "\u001b[?25hRequirement already satisfied: wrapt>=1.11.1 in /usr/local/lib/python3.6/dist-packages (from tensorflow-gpu==2.0.0-rc0) (1.11.2)\n",
            "Requirement already satisfied: grpcio>=1.8.6 in /usr/local/lib/python3.6/dist-packages (from tensorflow-gpu==2.0.0-rc0) (1.15.0)\n",
            "Requirement already satisfied: wheel>=0.26 in /usr/local/lib/python3.6/dist-packages (from tensorflow-gpu==2.0.0-rc0) (0.33.6)\n",
            "Requirement already satisfied: keras-applications>=1.0.8 in /usr/local/lib/python3.6/dist-packages (from tensorflow-gpu==2.0.0-rc0) (1.0.8)\n",
            "Requirement already satisfied: astor>=0.6.0 in /usr/local/lib/python3.6/dist-packages (from tensorflow-gpu==2.0.0-rc0) (0.8.0)\n",
            "Requirement already satisfied: numpy<2.0,>=1.16.0 in /usr/local/lib/python3.6/dist-packages (from tensorflow-gpu==2.0.0-rc0) (1.16.5)\n",
            "Requirement already satisfied: markdown>=2.6.8 in /usr/local/lib/python3.6/dist-packages (from tb-nightly<1.15.0a20190807,>=1.15.0a20190806->tensorflow-gpu==2.0.0-rc0) (3.1.1)\n",
            "Requirement already satisfied: setuptools>=41.0.0 in /usr/local/lib/python3.6/dist-packages (from tb-nightly<1.15.0a20190807,>=1.15.0a20190806->tensorflow-gpu==2.0.0-rc0) (41.2.0)\n",
            "Requirement already satisfied: werkzeug>=0.11.15 in /usr/local/lib/python3.6/dist-packages (from tb-nightly<1.15.0a20190807,>=1.15.0a20190806->tensorflow-gpu==2.0.0-rc0) (0.15.6)\n",
            "Requirement already satisfied: h5py in /usr/local/lib/python3.6/dist-packages (from keras-applications>=1.0.8->tensorflow-gpu==2.0.0-rc0) (2.8.0)\n",
            "Installing collected packages: tb-nightly, tf-estimator-nightly, tensorflow-gpu\n",
            "Successfully installed tb-nightly-1.15.0a20190806 tensorflow-gpu-2.0.0rc0 tf-estimator-nightly-1.14.0.dev2019080601\n"
          ],
          "name": "stdout"
        }
      ]
    },
    {
      "cell_type": "code",
      "metadata": {
        "id": "ffJzaHj1DHf7",
        "colab_type": "code",
        "colab": {
          "base_uri": "https://localhost:8080/",
          "height": 34
        },
        "outputId": "02e65117-4312-4af0-9461-9b980ee173d3"
      },
      "source": [
        "import tensorflow as tf\n",
        "from tensorflow import keras\n",
        "from tensorflow.keras import Sequential\n",
        "from tensorflow.keras.layers import Flatten,Dense,Dropout,BatchNormalization\n",
        "from tensorflow.keras.layers import Conv1D,MaxPool2D\n",
        "from tensorflow.keras.optimizers import Adam\n",
        "\n",
        "print(tf.__version__)\n"
      ],
      "execution_count": 26,
      "outputs": [
        {
          "output_type": "stream",
          "text": [
            "2.0.0-rc0\n"
          ],
          "name": "stdout"
        }
      ]
    },
    {
      "cell_type": "code",
      "metadata": {
        "id": "MgkTXvJ8FBon",
        "colab_type": "code",
        "colab": {}
      },
      "source": [
        "import numpy as np\n",
        "import pandas as pd\n",
        "import matplotlib.pyplot as plt\n",
        "import seaborn as sns"
      ],
      "execution_count": 0,
      "outputs": []
    },
    {
      "cell_type": "code",
      "metadata": {
        "id": "CVM4DkXWFeZD",
        "colab_type": "code",
        "colab": {}
      },
      "source": [
        "from sklearn import datasets,metrics\n",
        "from sklearn.preprocessing import StandardScaler\n",
        "from sklearn.model_selection import train_test_split"
      ],
      "execution_count": 0,
      "outputs": []
    },
    {
      "cell_type": "code",
      "metadata": {
        "id": "CG07oAAqF8OI",
        "colab_type": "code",
        "colab": {}
      },
      "source": [
        "cancer = datasets.load_breast_cancer()"
      ],
      "execution_count": 0,
      "outputs": []
    },
    {
      "cell_type": "code",
      "metadata": {
        "id": "MkCyr3iiGWwK",
        "colab_type": "code",
        "colab": {
          "base_uri": "https://localhost:8080/",
          "height": 258
        },
        "outputId": "05cb144e-046f-4e72-8d6e-8cf639f1d932"
      },
      "source": [
        "x = pd.DataFrame(data = cancer.data,columns = cancer.feature_names)\n",
        "x.head()"
      ],
      "execution_count": 32,
      "outputs": [
        {
          "output_type": "execute_result",
          "data": {
            "text/html": [
              "<div>\n",
              "<style scoped>\n",
              "    .dataframe tbody tr th:only-of-type {\n",
              "        vertical-align: middle;\n",
              "    }\n",
              "\n",
              "    .dataframe tbody tr th {\n",
              "        vertical-align: top;\n",
              "    }\n",
              "\n",
              "    .dataframe thead th {\n",
              "        text-align: right;\n",
              "    }\n",
              "</style>\n",
              "<table border=\"1\" class=\"dataframe\">\n",
              "  <thead>\n",
              "    <tr style=\"text-align: right;\">\n",
              "      <th></th>\n",
              "      <th>mean radius</th>\n",
              "      <th>mean texture</th>\n",
              "      <th>mean perimeter</th>\n",
              "      <th>mean area</th>\n",
              "      <th>mean smoothness</th>\n",
              "      <th>mean compactness</th>\n",
              "      <th>mean concavity</th>\n",
              "      <th>mean concave points</th>\n",
              "      <th>mean symmetry</th>\n",
              "      <th>mean fractal dimension</th>\n",
              "      <th>radius error</th>\n",
              "      <th>texture error</th>\n",
              "      <th>perimeter error</th>\n",
              "      <th>area error</th>\n",
              "      <th>smoothness error</th>\n",
              "      <th>compactness error</th>\n",
              "      <th>concavity error</th>\n",
              "      <th>concave points error</th>\n",
              "      <th>symmetry error</th>\n",
              "      <th>fractal dimension error</th>\n",
              "      <th>worst radius</th>\n",
              "      <th>worst texture</th>\n",
              "      <th>worst perimeter</th>\n",
              "      <th>worst area</th>\n",
              "      <th>worst smoothness</th>\n",
              "      <th>worst compactness</th>\n",
              "      <th>worst concavity</th>\n",
              "      <th>worst concave points</th>\n",
              "      <th>worst symmetry</th>\n",
              "      <th>worst fractal dimension</th>\n",
              "    </tr>\n",
              "  </thead>\n",
              "  <tbody>\n",
              "    <tr>\n",
              "      <th>0</th>\n",
              "      <td>17.99</td>\n",
              "      <td>10.38</td>\n",
              "      <td>122.80</td>\n",
              "      <td>1001.0</td>\n",
              "      <td>0.11840</td>\n",
              "      <td>0.27760</td>\n",
              "      <td>0.3001</td>\n",
              "      <td>0.14710</td>\n",
              "      <td>0.2419</td>\n",
              "      <td>0.07871</td>\n",
              "      <td>1.0950</td>\n",
              "      <td>0.9053</td>\n",
              "      <td>8.589</td>\n",
              "      <td>153.40</td>\n",
              "      <td>0.006399</td>\n",
              "      <td>0.04904</td>\n",
              "      <td>0.05373</td>\n",
              "      <td>0.01587</td>\n",
              "      <td>0.03003</td>\n",
              "      <td>0.006193</td>\n",
              "      <td>25.38</td>\n",
              "      <td>17.33</td>\n",
              "      <td>184.60</td>\n",
              "      <td>2019.0</td>\n",
              "      <td>0.1622</td>\n",
              "      <td>0.6656</td>\n",
              "      <td>0.7119</td>\n",
              "      <td>0.2654</td>\n",
              "      <td>0.4601</td>\n",
              "      <td>0.11890</td>\n",
              "    </tr>\n",
              "    <tr>\n",
              "      <th>1</th>\n",
              "      <td>20.57</td>\n",
              "      <td>17.77</td>\n",
              "      <td>132.90</td>\n",
              "      <td>1326.0</td>\n",
              "      <td>0.08474</td>\n",
              "      <td>0.07864</td>\n",
              "      <td>0.0869</td>\n",
              "      <td>0.07017</td>\n",
              "      <td>0.1812</td>\n",
              "      <td>0.05667</td>\n",
              "      <td>0.5435</td>\n",
              "      <td>0.7339</td>\n",
              "      <td>3.398</td>\n",
              "      <td>74.08</td>\n",
              "      <td>0.005225</td>\n",
              "      <td>0.01308</td>\n",
              "      <td>0.01860</td>\n",
              "      <td>0.01340</td>\n",
              "      <td>0.01389</td>\n",
              "      <td>0.003532</td>\n",
              "      <td>24.99</td>\n",
              "      <td>23.41</td>\n",
              "      <td>158.80</td>\n",
              "      <td>1956.0</td>\n",
              "      <td>0.1238</td>\n",
              "      <td>0.1866</td>\n",
              "      <td>0.2416</td>\n",
              "      <td>0.1860</td>\n",
              "      <td>0.2750</td>\n",
              "      <td>0.08902</td>\n",
              "    </tr>\n",
              "    <tr>\n",
              "      <th>2</th>\n",
              "      <td>19.69</td>\n",
              "      <td>21.25</td>\n",
              "      <td>130.00</td>\n",
              "      <td>1203.0</td>\n",
              "      <td>0.10960</td>\n",
              "      <td>0.15990</td>\n",
              "      <td>0.1974</td>\n",
              "      <td>0.12790</td>\n",
              "      <td>0.2069</td>\n",
              "      <td>0.05999</td>\n",
              "      <td>0.7456</td>\n",
              "      <td>0.7869</td>\n",
              "      <td>4.585</td>\n",
              "      <td>94.03</td>\n",
              "      <td>0.006150</td>\n",
              "      <td>0.04006</td>\n",
              "      <td>0.03832</td>\n",
              "      <td>0.02058</td>\n",
              "      <td>0.02250</td>\n",
              "      <td>0.004571</td>\n",
              "      <td>23.57</td>\n",
              "      <td>25.53</td>\n",
              "      <td>152.50</td>\n",
              "      <td>1709.0</td>\n",
              "      <td>0.1444</td>\n",
              "      <td>0.4245</td>\n",
              "      <td>0.4504</td>\n",
              "      <td>0.2430</td>\n",
              "      <td>0.3613</td>\n",
              "      <td>0.08758</td>\n",
              "    </tr>\n",
              "    <tr>\n",
              "      <th>3</th>\n",
              "      <td>11.42</td>\n",
              "      <td>20.38</td>\n",
              "      <td>77.58</td>\n",
              "      <td>386.1</td>\n",
              "      <td>0.14250</td>\n",
              "      <td>0.28390</td>\n",
              "      <td>0.2414</td>\n",
              "      <td>0.10520</td>\n",
              "      <td>0.2597</td>\n",
              "      <td>0.09744</td>\n",
              "      <td>0.4956</td>\n",
              "      <td>1.1560</td>\n",
              "      <td>3.445</td>\n",
              "      <td>27.23</td>\n",
              "      <td>0.009110</td>\n",
              "      <td>0.07458</td>\n",
              "      <td>0.05661</td>\n",
              "      <td>0.01867</td>\n",
              "      <td>0.05963</td>\n",
              "      <td>0.009208</td>\n",
              "      <td>14.91</td>\n",
              "      <td>26.50</td>\n",
              "      <td>98.87</td>\n",
              "      <td>567.7</td>\n",
              "      <td>0.2098</td>\n",
              "      <td>0.8663</td>\n",
              "      <td>0.6869</td>\n",
              "      <td>0.2575</td>\n",
              "      <td>0.6638</td>\n",
              "      <td>0.17300</td>\n",
              "    </tr>\n",
              "    <tr>\n",
              "      <th>4</th>\n",
              "      <td>20.29</td>\n",
              "      <td>14.34</td>\n",
              "      <td>135.10</td>\n",
              "      <td>1297.0</td>\n",
              "      <td>0.10030</td>\n",
              "      <td>0.13280</td>\n",
              "      <td>0.1980</td>\n",
              "      <td>0.10430</td>\n",
              "      <td>0.1809</td>\n",
              "      <td>0.05883</td>\n",
              "      <td>0.7572</td>\n",
              "      <td>0.7813</td>\n",
              "      <td>5.438</td>\n",
              "      <td>94.44</td>\n",
              "      <td>0.011490</td>\n",
              "      <td>0.02461</td>\n",
              "      <td>0.05688</td>\n",
              "      <td>0.01885</td>\n",
              "      <td>0.01756</td>\n",
              "      <td>0.005115</td>\n",
              "      <td>22.54</td>\n",
              "      <td>16.67</td>\n",
              "      <td>152.20</td>\n",
              "      <td>1575.0</td>\n",
              "      <td>0.1374</td>\n",
              "      <td>0.2050</td>\n",
              "      <td>0.4000</td>\n",
              "      <td>0.1625</td>\n",
              "      <td>0.2364</td>\n",
              "      <td>0.07678</td>\n",
              "    </tr>\n",
              "  </tbody>\n",
              "</table>\n",
              "</div>"
            ],
            "text/plain": [
              "   mean radius  mean texture  ...  worst symmetry  worst fractal dimension\n",
              "0        17.99         10.38  ...          0.4601                  0.11890\n",
              "1        20.57         17.77  ...          0.2750                  0.08902\n",
              "2        19.69         21.25  ...          0.3613                  0.08758\n",
              "3        11.42         20.38  ...          0.6638                  0.17300\n",
              "4        20.29         14.34  ...          0.2364                  0.07678\n",
              "\n",
              "[5 rows x 30 columns]"
            ]
          },
          "metadata": {
            "tags": []
          },
          "execution_count": 32
        }
      ]
    },
    {
      "cell_type": "code",
      "metadata": {
        "id": "0tHhzqN8GYjA",
        "colab_type": "code",
        "colab": {
          "base_uri": "https://localhost:8080/",
          "height": 34
        },
        "outputId": "a3546831-76bd-435e-ced4-b7e9c94505d9"
      },
      "source": [
        "len(x)"
      ],
      "execution_count": 33,
      "outputs": [
        {
          "output_type": "execute_result",
          "data": {
            "text/plain": [
              "569"
            ]
          },
          "metadata": {
            "tags": []
          },
          "execution_count": 33
        }
      ]
    },
    {
      "cell_type": "code",
      "metadata": {
        "id": "fQENMi4WIfDV",
        "colab_type": "code",
        "colab": {}
      },
      "source": [
        "y = cancer.target\n"
      ],
      "execution_count": 0,
      "outputs": []
    },
    {
      "cell_type": "code",
      "metadata": {
        "id": "z-TkBrFCJ8zP",
        "colab_type": "code",
        "colab": {
          "base_uri": "https://localhost:8080/",
          "height": 34
        },
        "outputId": "b773a5a8-6c13-4423-a035-e8313371a8b1"
      },
      "source": [
        "x_train,x_test,y_train,y_test = train_test_split(x,y,test_size=0.2,random_state=0,stratify=y)\n",
        "len(x_test),x_train.shape"
      ],
      "execution_count": 35,
      "outputs": [
        {
          "output_type": "execute_result",
          "data": {
            "text/plain": [
              "(114, (455, 30))"
            ]
          },
          "metadata": {
            "tags": []
          },
          "execution_count": 35
        }
      ]
    },
    {
      "cell_type": "code",
      "metadata": {
        "id": "P98_BA9VKwWP",
        "colab_type": "code",
        "colab": {}
      },
      "source": [
        "scaler = StandardScaler()\n",
        "x_train = scaler.fit_transform(x_train)\n",
        "x_test = scaler.fit_transform(x_test)"
      ],
      "execution_count": 0,
      "outputs": []
    },
    {
      "cell_type": "code",
      "metadata": {
        "id": "8kLmecngLOqp",
        "colab_type": "code",
        "colab": {
          "base_uri": "https://localhost:8080/",
          "height": 34
        },
        "outputId": "f5bf3e2a-9e8f-47b3-b486-aa79286cdecd"
      },
      "source": [
        "x_train = x_train.reshape(455,30,1)\n",
        "x_test = x_test.reshape(114,30,1)\n",
        "x_train.shape"
      ],
      "execution_count": 37,
      "outputs": [
        {
          "output_type": "execute_result",
          "data": {
            "text/plain": [
              "(455, 30, 1)"
            ]
          },
          "metadata": {
            "tags": []
          },
          "execution_count": 37
        }
      ]
    },
    {
      "cell_type": "code",
      "metadata": {
        "id": "WyiGuxBuPEDZ",
        "colab_type": "code",
        "colab": {
          "base_uri": "https://localhost:8080/",
          "height": 493
        },
        "outputId": "27ee9828-2313-4c57-9190-eaea82c50179"
      },
      "source": [
        "model = Sequential()\n",
        "model.add(Conv1D(32,(2),activation='relu',input_shape=(30,1,)))\n",
        "model.add(BatchNormalization())\n",
        "model.add(Dropout(0.2))\n",
        "\n",
        "model.add(Conv1D(64,(2),activation='relu'))\n",
        "model.add(BatchNormalization())\n",
        "model.add(Dropout(0.4))\n",
        "\n",
        "\n",
        "model.add(Flatten())\n",
        "model.add(Dense(64,activation='relu'))\n",
        "model.add(Dropout(0.5))\n",
        "model.add(Dense(1,activation='sigmoid'))\n",
        "\n",
        "model.summary()"
      ],
      "execution_count": 38,
      "outputs": [
        {
          "output_type": "stream",
          "text": [
            "Model: \"sequential_3\"\n",
            "_________________________________________________________________\n",
            "Layer (type)                 Output Shape              Param #   \n",
            "=================================================================\n",
            "conv1d_3 (Conv1D)            (None, 29, 32)            96        \n",
            "_________________________________________________________________\n",
            "batch_normalization_2 (Batch (None, 29, 32)            128       \n",
            "_________________________________________________________________\n",
            "dropout_3 (Dropout)          (None, 29, 32)            0         \n",
            "_________________________________________________________________\n",
            "conv1d_4 (Conv1D)            (None, 28, 64)            4160      \n",
            "_________________________________________________________________\n",
            "batch_normalization_3 (Batch (None, 28, 64)            256       \n",
            "_________________________________________________________________\n",
            "dropout_4 (Dropout)          (None, 28, 64)            0         \n",
            "_________________________________________________________________\n",
            "flatten_1 (Flatten)          (None, 1792)              0         \n",
            "_________________________________________________________________\n",
            "dense_2 (Dense)              (None, 64)                114752    \n",
            "_________________________________________________________________\n",
            "dropout_5 (Dropout)          (None, 64)                0         \n",
            "_________________________________________________________________\n",
            "dense_3 (Dense)              (None, 1)                 65        \n",
            "=================================================================\n",
            "Total params: 119,457\n",
            "Trainable params: 119,265\n",
            "Non-trainable params: 192\n",
            "_________________________________________________________________\n"
          ],
          "name": "stdout"
        }
      ]
    },
    {
      "cell_type": "code",
      "metadata": {
        "id": "Tt2biDOmSoSX",
        "colab_type": "code",
        "colab": {}
      },
      "source": [
        "model.compile(optimizer=Adam(lr=0.00005),loss='binary_crossentropy',metrics=['accuracy'])"
      ],
      "execution_count": 0,
      "outputs": []
    },
    {
      "cell_type": "code",
      "metadata": {
        "id": "D7dACp5ifhnT",
        "colab_type": "code",
        "colab": {
          "base_uri": "https://localhost:8080/",
          "height": 1000
        },
        "outputId": "24cac035-5abd-404b-f55a-99d8aa22ead2"
      },
      "source": [
        "history = model.fit(x_train,y_train,epochs=50,validation_data=(x_test,y_test),verbose=1)"
      ],
      "execution_count": 40,
      "outputs": [
        {
          "output_type": "stream",
          "text": [
            "Train on 455 samples, validate on 114 samples\n",
            "Epoch 1/50\n",
            "455/455 [==============================] - 1s 3ms/sample - loss: 0.8632 - accuracy: 0.6352 - val_loss: 0.6402 - val_accuracy: 0.7807\n",
            "Epoch 2/50\n",
            "455/455 [==============================] - 0s 348us/sample - loss: 0.5520 - accuracy: 0.7473 - val_loss: 0.5884 - val_accuracy: 0.8158\n",
            "Epoch 3/50\n",
            "455/455 [==============================] - 0s 355us/sample - loss: 0.4079 - accuracy: 0.8264 - val_loss: 0.5431 - val_accuracy: 0.7982\n",
            "Epoch 4/50\n",
            "455/455 [==============================] - 0s 345us/sample - loss: 0.3383 - accuracy: 0.8703 - val_loss: 0.5034 - val_accuracy: 0.8070\n",
            "Epoch 5/50\n",
            "455/455 [==============================] - 0s 368us/sample - loss: 0.3668 - accuracy: 0.8703 - val_loss: 0.4710 - val_accuracy: 0.7982\n",
            "Epoch 6/50\n",
            "455/455 [==============================] - 0s 347us/sample - loss: 0.2798 - accuracy: 0.8791 - val_loss: 0.4448 - val_accuracy: 0.7982\n",
            "Epoch 7/50\n",
            "455/455 [==============================] - 0s 357us/sample - loss: 0.2760 - accuracy: 0.8989 - val_loss: 0.4191 - val_accuracy: 0.8070\n",
            "Epoch 8/50\n",
            "455/455 [==============================] - 0s 346us/sample - loss: 0.2006 - accuracy: 0.9253 - val_loss: 0.3917 - val_accuracy: 0.8246\n",
            "Epoch 9/50\n",
            "455/455 [==============================] - 0s 364us/sample - loss: 0.2050 - accuracy: 0.9231 - val_loss: 0.3680 - val_accuracy: 0.8509\n",
            "Epoch 10/50\n",
            "455/455 [==============================] - 0s 345us/sample - loss: 0.2532 - accuracy: 0.9077 - val_loss: 0.3468 - val_accuracy: 0.8596\n",
            "Epoch 11/50\n",
            "455/455 [==============================] - 0s 351us/sample - loss: 0.2189 - accuracy: 0.9121 - val_loss: 0.3273 - val_accuracy: 0.8684\n",
            "Epoch 12/50\n",
            "455/455 [==============================] - 0s 343us/sample - loss: 0.1863 - accuracy: 0.9187 - val_loss: 0.3042 - val_accuracy: 0.8684\n",
            "Epoch 13/50\n",
            "455/455 [==============================] - 0s 372us/sample - loss: 0.1690 - accuracy: 0.9385 - val_loss: 0.2817 - val_accuracy: 0.8684\n",
            "Epoch 14/50\n",
            "455/455 [==============================] - 0s 345us/sample - loss: 0.1922 - accuracy: 0.9253 - val_loss: 0.2558 - val_accuracy: 0.8684\n",
            "Epoch 15/50\n",
            "455/455 [==============================] - 0s 357us/sample - loss: 0.1962 - accuracy: 0.9209 - val_loss: 0.2342 - val_accuracy: 0.8860\n",
            "Epoch 16/50\n",
            "455/455 [==============================] - 0s 356us/sample - loss: 0.1570 - accuracy: 0.9363 - val_loss: 0.2142 - val_accuracy: 0.9211\n",
            "Epoch 17/50\n",
            "455/455 [==============================] - 0s 334us/sample - loss: 0.1369 - accuracy: 0.9582 - val_loss: 0.1985 - val_accuracy: 0.9386\n",
            "Epoch 18/50\n",
            "455/455 [==============================] - 0s 334us/sample - loss: 0.1616 - accuracy: 0.9385 - val_loss: 0.1849 - val_accuracy: 0.9386\n",
            "Epoch 19/50\n",
            "455/455 [==============================] - 0s 373us/sample - loss: 0.1631 - accuracy: 0.9407 - val_loss: 0.1700 - val_accuracy: 0.9386\n",
            "Epoch 20/50\n",
            "455/455 [==============================] - 0s 336us/sample - loss: 0.1320 - accuracy: 0.9363 - val_loss: 0.1602 - val_accuracy: 0.9474\n",
            "Epoch 21/50\n",
            "455/455 [==============================] - 0s 352us/sample - loss: 0.1412 - accuracy: 0.9495 - val_loss: 0.1485 - val_accuracy: 0.9474\n",
            "Epoch 22/50\n",
            "455/455 [==============================] - 0s 351us/sample - loss: 0.1404 - accuracy: 0.9451 - val_loss: 0.1401 - val_accuracy: 0.9561\n",
            "Epoch 23/50\n",
            "455/455 [==============================] - 0s 386us/sample - loss: 0.1473 - accuracy: 0.9473 - val_loss: 0.1320 - val_accuracy: 0.9649\n",
            "Epoch 24/50\n",
            "455/455 [==============================] - 0s 346us/sample - loss: 0.1742 - accuracy: 0.9473 - val_loss: 0.1253 - val_accuracy: 0.9737\n",
            "Epoch 25/50\n",
            "455/455 [==============================] - 0s 341us/sample - loss: 0.1263 - accuracy: 0.9560 - val_loss: 0.1193 - val_accuracy: 0.9737\n",
            "Epoch 26/50\n",
            "455/455 [==============================] - 0s 353us/sample - loss: 0.1203 - accuracy: 0.9516 - val_loss: 0.1147 - val_accuracy: 0.9737\n",
            "Epoch 27/50\n",
            "455/455 [==============================] - 0s 345us/sample - loss: 0.1471 - accuracy: 0.9297 - val_loss: 0.1108 - val_accuracy: 0.9737\n",
            "Epoch 28/50\n",
            "455/455 [==============================] - 0s 405us/sample - loss: 0.1023 - accuracy: 0.9604 - val_loss: 0.1083 - val_accuracy: 0.9825\n",
            "Epoch 29/50\n",
            "455/455 [==============================] - 0s 375us/sample - loss: 0.1111 - accuracy: 0.9604 - val_loss: 0.1072 - val_accuracy: 0.9825\n",
            "Epoch 30/50\n",
            "455/455 [==============================] - 0s 363us/sample - loss: 0.0955 - accuracy: 0.9560 - val_loss: 0.1056 - val_accuracy: 0.9825\n",
            "Epoch 31/50\n",
            "455/455 [==============================] - 0s 342us/sample - loss: 0.1147 - accuracy: 0.9626 - val_loss: 0.1041 - val_accuracy: 0.9825\n",
            "Epoch 32/50\n",
            "455/455 [==============================] - 0s 342us/sample - loss: 0.0980 - accuracy: 0.9714 - val_loss: 0.1033 - val_accuracy: 0.9825\n",
            "Epoch 33/50\n",
            "455/455 [==============================] - 0s 344us/sample - loss: 0.1353 - accuracy: 0.9495 - val_loss: 0.1012 - val_accuracy: 0.9825\n",
            "Epoch 34/50\n",
            "455/455 [==============================] - 0s 356us/sample - loss: 0.1271 - accuracy: 0.9516 - val_loss: 0.1000 - val_accuracy: 0.9825\n",
            "Epoch 35/50\n",
            "455/455 [==============================] - 0s 364us/sample - loss: 0.1252 - accuracy: 0.9451 - val_loss: 0.0990 - val_accuracy: 0.9825\n",
            "Epoch 36/50\n",
            "455/455 [==============================] - 0s 387us/sample - loss: 0.1285 - accuracy: 0.9495 - val_loss: 0.0997 - val_accuracy: 0.9825\n",
            "Epoch 37/50\n",
            "455/455 [==============================] - 0s 353us/sample - loss: 0.1003 - accuracy: 0.9538 - val_loss: 0.0998 - val_accuracy: 0.9825\n",
            "Epoch 38/50\n",
            "455/455 [==============================] - 0s 354us/sample - loss: 0.1043 - accuracy: 0.9670 - val_loss: 0.1004 - val_accuracy: 0.9825\n",
            "Epoch 39/50\n",
            "455/455 [==============================] - 0s 352us/sample - loss: 0.1215 - accuracy: 0.9495 - val_loss: 0.1006 - val_accuracy: 0.9737\n",
            "Epoch 40/50\n",
            "455/455 [==============================] - 0s 362us/sample - loss: 0.1037 - accuracy: 0.9582 - val_loss: 0.1003 - val_accuracy: 0.9737\n",
            "Epoch 41/50\n",
            "455/455 [==============================] - 0s 335us/sample - loss: 0.0953 - accuracy: 0.9648 - val_loss: 0.1008 - val_accuracy: 0.9737\n",
            "Epoch 42/50\n",
            "455/455 [==============================] - 0s 357us/sample - loss: 0.1082 - accuracy: 0.9538 - val_loss: 0.1005 - val_accuracy: 0.9737\n",
            "Epoch 43/50\n",
            "455/455 [==============================] - 0s 344us/sample - loss: 0.0835 - accuracy: 0.9714 - val_loss: 0.0995 - val_accuracy: 0.9737\n",
            "Epoch 44/50\n",
            "455/455 [==============================] - 0s 361us/sample - loss: 0.0968 - accuracy: 0.9648 - val_loss: 0.0986 - val_accuracy: 0.9737\n",
            "Epoch 45/50\n",
            "455/455 [==============================] - 0s 347us/sample - loss: 0.1030 - accuracy: 0.9582 - val_loss: 0.0988 - val_accuracy: 0.9737\n",
            "Epoch 46/50\n",
            "455/455 [==============================] - 0s 360us/sample - loss: 0.0755 - accuracy: 0.9736 - val_loss: 0.0980 - val_accuracy: 0.9737\n",
            "Epoch 47/50\n",
            "455/455 [==============================] - 0s 336us/sample - loss: 0.1146 - accuracy: 0.9692 - val_loss: 0.0972 - val_accuracy: 0.9737\n",
            "Epoch 48/50\n",
            "455/455 [==============================] - 0s 370us/sample - loss: 0.1155 - accuracy: 0.9516 - val_loss: 0.0980 - val_accuracy: 0.9737\n",
            "Epoch 49/50\n",
            "455/455 [==============================] - 0s 363us/sample - loss: 0.0739 - accuracy: 0.9758 - val_loss: 0.0993 - val_accuracy: 0.9649\n",
            "Epoch 50/50\n",
            "455/455 [==============================] - 0s 374us/sample - loss: 0.0710 - accuracy: 0.9758 - val_loss: 0.0994 - val_accuracy: 0.9649\n"
          ],
          "name": "stdout"
        }
      ]
    },
    {
      "cell_type": "code",
      "metadata": {
        "id": "e-4fFt8YgDom",
        "colab_type": "code",
        "colab": {}
      },
      "source": [
        "epoch = 50\n",
        "def lerning_curve(history,epoch):\n",
        "  epoch_range = range(1,epoch+1)\n",
        "  plt.plot(epoch_range,history.history['accuracy'])\n",
        "  plt.plot(epoch_range,history.history['val_accuracy'])\n",
        "  plt.xlabel('Epoch')\n",
        "  plt.ylabel('Accuracy')\n",
        "  plt.title('validation & train_accuracy')\n",
        "  plt.legend('train','val')\n",
        "  plt.show()\n",
        "  \n",
        "  plt.plot(epoch_range,history.history['loss'])\n",
        "  plt.plot(epoch_range,history.history['val_loss'])\n",
        "  plt.xlabel('Epoch')\n",
        "  plt.ylabel('Accuracy')\n",
        "  plt.title('validation & train_loss')\n",
        "  plt.legend('train','val')\n",
        "  plt.show()"
      ],
      "execution_count": 0,
      "outputs": []
    },
    {
      "cell_type": "code",
      "metadata": {
        "id": "ioJRWtrQg0Sh",
        "colab_type": "code",
        "colab": {
          "base_uri": "https://localhost:8080/",
          "height": 777
        },
        "outputId": "a05ecf9b-3e9e-4344-eb5f-ebb821e8e921"
      },
      "source": [
        "lerning_curve(history,epoch)"
      ],
      "execution_count": 53,
      "outputs": [
        {
          "output_type": "stream",
          "text": [
            "/usr/local/lib/python3.6/dist-packages/matplotlib/legend.py:798: UserWarning: Legend does not support 't' instances.\n",
            "A proxy artist may be used instead.\n",
            "See: http://matplotlib.org/users/legend_guide.html#creating-artists-specifically-for-adding-to-the-legend-aka-proxy-artists\n",
            "  \"aka-proxy-artists\".format(orig_handle)\n",
            "/usr/local/lib/python3.6/dist-packages/matplotlib/legend.py:798: UserWarning: Legend does not support 'r' instances.\n",
            "A proxy artist may be used instead.\n",
            "See: http://matplotlib.org/users/legend_guide.html#creating-artists-specifically-for-adding-to-the-legend-aka-proxy-artists\n",
            "  \"aka-proxy-artists\".format(orig_handle)\n",
            "/usr/local/lib/python3.6/dist-packages/matplotlib/legend.py:798: UserWarning: Legend does not support 'a' instances.\n",
            "A proxy artist may be used instead.\n",
            "See: http://matplotlib.org/users/legend_guide.html#creating-artists-specifically-for-adding-to-the-legend-aka-proxy-artists\n",
            "  \"aka-proxy-artists\".format(orig_handle)\n"
          ],
          "name": "stderr"
        },
        {
          "output_type": "display_data",
          "data": {
            "image/png": "[encoded data removed]",
            "text/plain": [
              "<Figure size 432x288 with 1 Axes>"
            ]
          },
          "metadata": {
            "tags": []
          }
        },
        {
          "output_type": "display_data",
          "data": {
            "image/png": "[encoded data removed]",
            "text/plain": [
              "<Figure size 432x288 with 1 Axes>"
            ]
          },
          "metadata": {
            "tags": []
          }
        }
      ]
    },
    {
      "cell_type": "code",
      "metadata": {
        "id": "BNzWc1BFow9E",
        "colab_type": "code",
        "colab": {}
      },
      "source": [
        ""
      ],
      "execution_count": 0,
      "outputs": []
    }
  ]
}